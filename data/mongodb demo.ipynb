{
 "cells": [
  {
   "cell_type": "code",
   "execution_count": 1,
   "metadata": {},
   "outputs": [],
   "source": [
    "import pandas as pd\n",
    "import numpy as np\n",
    "import pymongo\n",
    "import json\n",
    "\n",
    "from config import DBConfig"
   ]
  },
  {
   "cell_type": "code",
   "execution_count": 2,
   "metadata": {},
   "outputs": [
    {
     "name": "stdout",
     "output_type": "stream",
     "text": [
      "['QTA_2020', 'admin', 'config', 'local']\n"
     ]
    }
   ],
   "source": [
    "# 登录 MongoDB\n",
    "myclient = pymongo.MongoClient(DBConfig.ip, username=DBConfig.username, \n",
    "                               password=DBConfig.password)\n",
    "# 显示数据库列表\n",
    "print(myclient.list_database_names())"
   ]
  },
  {
   "cell_type": "code",
   "execution_count": 3,
   "metadata": {},
   "outputs": [
    {
     "data": {
      "text/plain": [
       "'QTA_2020'"
      ]
     },
     "execution_count": 3,
     "metadata": {},
     "output_type": "execute_result"
    }
   ],
   "source": [
    "DBConfig.db_name"
   ]
  },
  {
   "cell_type": "code",
   "execution_count": 4,
   "metadata": {},
   "outputs": [
    {
     "name": "stdout",
     "output_type": "stream",
     "text": [
      "['daily_factor', 'minute_quote', 'index_weight', 'daily_quote', 'stock_info', 'daily_style_factor']\n"
     ]
    }
   ],
   "source": [
    "# 连接数据库\n",
    "mydb = myclient[DBConfig.db_name]\n",
    "\n",
    "# 显示collection列表\n",
    "print(mydb.list_collection_names())"
   ]
  },
  {
   "cell_type": "code",
   "execution_count": 5,
   "metadata": {},
   "outputs": [
    {
     "data": {
      "text/html": [
       "<div>\n",
       "<style scoped>\n",
       "    .dataframe tbody tr th:only-of-type {\n",
       "        vertical-align: middle;\n",
       "    }\n",
       "\n",
       "    .dataframe tbody tr th {\n",
       "        vertical-align: top;\n",
       "    }\n",
       "\n",
       "    .dataframe thead th {\n",
       "        text-align: right;\n",
       "    }\n",
       "</style>\n",
       "<table border=\"1\" class=\"dataframe\">\n",
       "  <thead>\n",
       "    <tr style=\"text-align: right;\">\n",
       "      <th></th>\n",
       "      <th>datetime</th>\n",
       "      <th>code</th>\n",
       "      <th>factor1</th>\n",
       "      <th>factor2</th>\n",
       "      <th>factor3</th>\n",
       "    </tr>\n",
       "  </thead>\n",
       "  <tbody>\n",
       "    <tr>\n",
       "      <td>0</td>\n",
       "      <td>2020-10-10</td>\n",
       "      <td>000001.sz</td>\n",
       "      <td>0.885987</td>\n",
       "      <td>0.131043</td>\n",
       "      <td>0.0161896</td>\n",
       "    </tr>\n",
       "    <tr>\n",
       "      <td>1</td>\n",
       "      <td>2020-10-11</td>\n",
       "      <td>000002.sz</td>\n",
       "      <td>0.576781</td>\n",
       "      <td>0.453938</td>\n",
       "      <td>0.344057</td>\n",
       "    </tr>\n",
       "    <tr>\n",
       "      <td>2</td>\n",
       "      <td>2020-10-12</td>\n",
       "      <td>000003.sz</td>\n",
       "      <td>0.206857</td>\n",
       "      <td>0.115144</td>\n",
       "      <td>0.491489</td>\n",
       "    </tr>\n",
       "    <tr>\n",
       "      <td>3</td>\n",
       "      <td>2020-10-13</td>\n",
       "      <td>000004.sz</td>\n",
       "      <td>0.291992</td>\n",
       "      <td>0.431848</td>\n",
       "      <td>0.722746</td>\n",
       "    </tr>\n",
       "    <tr>\n",
       "      <td>4</td>\n",
       "      <td>2020-10-14</td>\n",
       "      <td>000005.sz</td>\n",
       "      <td>0.809319</td>\n",
       "      <td>0.15864</td>\n",
       "      <td>0.291753</td>\n",
       "    </tr>\n",
       "    <tr>\n",
       "      <td>5</td>\n",
       "      <td>2020-10-15</td>\n",
       "      <td>000006.sz</td>\n",
       "      <td>0.505646</td>\n",
       "      <td>0.892285</td>\n",
       "      <td>0.723272</td>\n",
       "    </tr>\n",
       "  </tbody>\n",
       "</table>\n",
       "</div>"
      ],
      "text/plain": [
       "    datetime       code   factor1   factor2    factor3\n",
       "0 2020-10-10  000001.sz  0.885987  0.131043  0.0161896\n",
       "1 2020-10-11  000002.sz  0.576781  0.453938   0.344057\n",
       "2 2020-10-12  000003.sz  0.206857  0.115144   0.491489\n",
       "3 2020-10-13  000004.sz  0.291992  0.431848   0.722746\n",
       "4 2020-10-14  000005.sz  0.809319   0.15864   0.291753\n",
       "5 2020-10-15  000006.sz  0.505646  0.892285   0.723272"
      ]
     },
     "execution_count": 5,
     "metadata": {},
     "output_type": "execute_result"
    }
   ],
   "source": [
    "# 创建demo数据\n",
    "l = [pd.date_range(start='2020-10-10', end='2020-10-15'),[str(x+1).zfill(6)+'.sz' for x in range(6)],\n",
    "     np.random.rand(6), np.random.rand(6), np.random.rand(6)]\n",
    "daily_factor_df = pd.DataFrame(l).T\n",
    "daily_factor_df.columns=['datetime', 'code', 'factor1', 'factor2', 'factor3']\n",
    "daily_factor_df"
   ]
  },
  {
   "cell_type": "code",
   "execution_count": 6,
   "metadata": {},
   "outputs": [
    {
     "data": {
      "text/plain": [
       "Timestamp('2020-10-10 00:00:00')"
      ]
     },
     "execution_count": 6,
     "metadata": {},
     "output_type": "execute_result"
    }
   ],
   "source": [
    "# datetime列统一用python里的datetime类型或timestamp类型\n",
    "daily_factor_df['datetime'].iat[0]"
   ]
  },
  {
   "cell_type": "markdown",
   "metadata": {},
   "source": [
    "## 增"
   ]
  },
  {
   "cell_type": "code",
   "execution_count": 7,
   "metadata": {},
   "outputs": [],
   "source": [
    "def insert_dataframe(df, collection):\n",
    "    collection.insert_many(df.to_dict('record'))"
   ]
  },
  {
   "cell_type": "code",
   "execution_count": 8,
   "metadata": {},
   "outputs": [],
   "source": [
    "daily_factor_collection = mydb['daily_factor']\n",
    "# 把dataframe插入数据库\n",
    "insert_dataframe(daily_factor_df, daily_factor_collection)"
   ]
  },
  {
   "cell_type": "markdown",
   "metadata": {},
   "source": [
    "## 查"
   ]
  },
  {
   "cell_type": "code",
   "execution_count": 9,
   "metadata": {},
   "outputs": [
    {
     "data": {
      "text/plain": [
       "[{'_id': ObjectId('5f8d8a7be3b12354117e8278'),\n",
       "  'datetime': datetime.datetime(2020, 10, 10, 0, 0),\n",
       "  'code': '000001.sz',\n",
       "  'factor1': 0.8859871686529796,\n",
       "  'factor2': 0.13104332015808018,\n",
       "  'factor3': 0.01618958512237101}]"
      ]
     },
     "execution_count": 9,
     "metadata": {},
     "output_type": "execute_result"
    }
   ],
   "source": [
    "cursor = daily_factor_collection.find({'code': '000001.sz'})\n",
    "list(cursor)"
   ]
  },
  {
   "cell_type": "code",
   "execution_count": 10,
   "metadata": {},
   "outputs": [
    {
     "data": {
      "text/plain": [
       "[{'_id': ObjectId('5f8d8a7be3b12354117e8279'),\n",
       "  'datetime': datetime.datetime(2020, 10, 11, 0, 0),\n",
       "  'code': '000002.sz',\n",
       "  'factor1': 0.5767808384028988,\n",
       "  'factor2': 0.453938366319255,\n",
       "  'factor3': 0.3440574423407401},\n",
       " {'_id': ObjectId('5f8d8a7be3b12354117e827a'),\n",
       "  'datetime': datetime.datetime(2020, 10, 12, 0, 0),\n",
       "  'code': '000003.sz',\n",
       "  'factor1': 0.20685715879259303,\n",
       "  'factor2': 0.11514358284960324,\n",
       "  'factor3': 0.4914894191778306},\n",
       " {'_id': ObjectId('5f8d8a7be3b12354117e827b'),\n",
       "  'datetime': datetime.datetime(2020, 10, 13, 0, 0),\n",
       "  'code': '000004.sz',\n",
       "  'factor1': 0.2919922422886886,\n",
       "  'factor2': 0.4318484829240453,\n",
       "  'factor3': 0.7227461454686258}]"
      ]
     },
     "execution_count": 10,
     "metadata": {},
     "output_type": "execute_result"
    }
   ],
   "source": [
    "# 查询特定日期区间的数据\n",
    "cursor = daily_factor_collection.find({'datetime':{'$gte': pd.to_datetime('2020-10-11'),\n",
    "                                                  '$lt': pd.to_datetime('2020-10-14')}\n",
    "                                      })\n",
    "l = list(cursor)\n",
    "l"
   ]
  },
  {
   "cell_type": "code",
   "execution_count": 11,
   "metadata": {},
   "outputs": [
    {
     "data": {
      "text/html": [
       "<div>\n",
       "<style scoped>\n",
       "    .dataframe tbody tr th:only-of-type {\n",
       "        vertical-align: middle;\n",
       "    }\n",
       "\n",
       "    .dataframe tbody tr th {\n",
       "        vertical-align: top;\n",
       "    }\n",
       "\n",
       "    .dataframe thead th {\n",
       "        text-align: right;\n",
       "    }\n",
       "</style>\n",
       "<table border=\"1\" class=\"dataframe\">\n",
       "  <thead>\n",
       "    <tr style=\"text-align: right;\">\n",
       "      <th></th>\n",
       "      <th>_id</th>\n",
       "      <th>datetime</th>\n",
       "      <th>code</th>\n",
       "      <th>factor1</th>\n",
       "      <th>factor2</th>\n",
       "      <th>factor3</th>\n",
       "    </tr>\n",
       "  </thead>\n",
       "  <tbody>\n",
       "    <tr>\n",
       "      <td>0</td>\n",
       "      <td>5f8d5c2ba253674a09707868</td>\n",
       "      <td>2020-10-10</td>\n",
       "      <td>000001.sz</td>\n",
       "      <td>0.082828</td>\n",
       "      <td>0.293359</td>\n",
       "      <td>0.276362</td>\n",
       "    </tr>\n",
       "    <tr>\n",
       "      <td>1</td>\n",
       "      <td>5f8d5c2ba253674a09707869</td>\n",
       "      <td>2020-10-11</td>\n",
       "      <td>000002.sz</td>\n",
       "      <td>0.537638</td>\n",
       "      <td>0.956017</td>\n",
       "      <td>0.301836</td>\n",
       "    </tr>\n",
       "    <tr>\n",
       "      <td>2</td>\n",
       "      <td>5f8d5c2ba253674a0970786a</td>\n",
       "      <td>2020-10-12</td>\n",
       "      <td>000003.sz</td>\n",
       "      <td>0.059053</td>\n",
       "      <td>0.414332</td>\n",
       "      <td>0.936546</td>\n",
       "    </tr>\n",
       "  </tbody>\n",
       "</table>\n",
       "</div>"
      ],
      "text/plain": [
       "                        _id   datetime       code   factor1   factor2  \\\n",
       "0  5f8d5c2ba253674a09707868 2020-10-10  000001.sz  0.082828  0.293359   \n",
       "1  5f8d5c2ba253674a09707869 2020-10-11  000002.sz  0.537638  0.956017   \n",
       "2  5f8d5c2ba253674a0970786a 2020-10-12  000003.sz  0.059053  0.414332   \n",
       "\n",
       "    factor3  \n",
       "0  0.276362  \n",
       "1  0.301836  \n",
       "2  0.936546  "
      ]
     },
     "execution_count": 11,
     "metadata": {},
     "output_type": "execute_result"
    }
   ],
   "source": [
    "# 查找特定的几只股票的数据\n",
    "cursor = daily_factor_collection.find({'code': {'$in': ['000001.sz', '000002.sz', '000003.sz']\n",
    "                                               }\n",
    "                                      })\n",
    "l = list(cursor)\n",
    "df = pd.DataFrame(l)\n",
    "df"
   ]
  },
  {
   "cell_type": "code",
   "execution_count": 12,
   "metadata": {},
   "outputs": [
    {
     "data": {
      "text/html": [
       "<div>\n",
       "<style scoped>\n",
       "    .dataframe tbody tr th:only-of-type {\n",
       "        vertical-align: middle;\n",
       "    }\n",
       "\n",
       "    .dataframe tbody tr th {\n",
       "        vertical-align: top;\n",
       "    }\n",
       "\n",
       "    .dataframe thead th {\n",
       "        text-align: right;\n",
       "    }\n",
       "</style>\n",
       "<table border=\"1\" class=\"dataframe\">\n",
       "  <thead>\n",
       "    <tr style=\"text-align: right;\">\n",
       "      <th></th>\n",
       "      <th>_id</th>\n",
       "      <th>datetime</th>\n",
       "      <th>code</th>\n",
       "      <th>factor1</th>\n",
       "      <th>factor2</th>\n",
       "      <th>factor3</th>\n",
       "    </tr>\n",
       "  </thead>\n",
       "  <tbody>\n",
       "    <tr>\n",
       "      <td>0</td>\n",
       "      <td>5f8d5c2ba253674a09707869</td>\n",
       "      <td>2020-10-11</td>\n",
       "      <td>000002.sz</td>\n",
       "      <td>0.537638</td>\n",
       "      <td>0.956017</td>\n",
       "      <td>0.301836</td>\n",
       "    </tr>\n",
       "    <tr>\n",
       "      <td>1</td>\n",
       "      <td>5f8d5c2ba253674a0970786a</td>\n",
       "      <td>2020-10-12</td>\n",
       "      <td>000003.sz</td>\n",
       "      <td>0.059053</td>\n",
       "      <td>0.414332</td>\n",
       "      <td>0.936546</td>\n",
       "    </tr>\n",
       "    <tr>\n",
       "      <td>2</td>\n",
       "      <td>5f8d5c2ba253674a0970786b</td>\n",
       "      <td>2020-10-13</td>\n",
       "      <td>000004.sz</td>\n",
       "      <td>0.587633</td>\n",
       "      <td>0.803884</td>\n",
       "      <td>0.402281</td>\n",
       "    </tr>\n",
       "    <tr>\n",
       "      <td>3</td>\n",
       "      <td>5f8d5c2ba253674a0970786c</td>\n",
       "      <td>2020-10-14</td>\n",
       "      <td>000005.sz</td>\n",
       "      <td>0.261762</td>\n",
       "      <td>0.910283</td>\n",
       "      <td>0.149412</td>\n",
       "    </tr>\n",
       "    <tr>\n",
       "      <td>4</td>\n",
       "      <td>5f8d5c2ba253674a0970786d</td>\n",
       "      <td>2020-10-15</td>\n",
       "      <td>000006.sz</td>\n",
       "      <td>0.859574</td>\n",
       "      <td>0.293090</td>\n",
       "      <td>0.087748</td>\n",
       "    </tr>\n",
       "  </tbody>\n",
       "</table>\n",
       "</div>"
      ],
      "text/plain": [
       "                        _id   datetime       code   factor1   factor2  \\\n",
       "0  5f8d5c2ba253674a09707869 2020-10-11  000002.sz  0.537638  0.956017   \n",
       "1  5f8d5c2ba253674a0970786a 2020-10-12  000003.sz  0.059053  0.414332   \n",
       "2  5f8d5c2ba253674a0970786b 2020-10-13  000004.sz  0.587633  0.803884   \n",
       "3  5f8d5c2ba253674a0970786c 2020-10-14  000005.sz  0.261762  0.910283   \n",
       "4  5f8d5c2ba253674a0970786d 2020-10-15  000006.sz  0.859574  0.293090   \n",
       "\n",
       "    factor3  \n",
       "0  0.301836  \n",
       "1  0.936546  \n",
       "2  0.402281  \n",
       "3  0.149412  \n",
       "4  0.087748  "
      ]
     },
     "execution_count": 12,
     "metadata": {},
     "output_type": "execute_result"
    }
   ],
   "source": [
    "# 查找除了特定股票之外的所有数据\n",
    "cursor = daily_factor_collection.find({'code': {'$nin': ['000001.sz']\n",
    "                                               }\n",
    "                                      })\n",
    "l = list(cursor)\n",
    "df = pd.DataFrame(l)\n",
    "df"
   ]
  },
  {
   "cell_type": "code",
   "execution_count": 11,
   "metadata": {},
   "outputs": [],
   "source": [
    "# 关于封装接口\n",
    "class DataBase:\n",
    "    def __init__(self, config):\n",
    "        self.config = config\n",
    "        # login\n",
    "        self.client = pymongo.MongoClient(config.ip, username=config.username, \n",
    "                               password=config.password)\n",
    "        self.db = self.client[config.db_name]\n",
    "        \n",
    "    def get_daily_factor(self, code_list, factor_list, start_date, end_date):\n",
    "        start_date, end_date = pd.to_datetime(start_date), pd.to_datetime(end_date)\n",
    "        collection = self.db['daily_factor']\n",
    "        \n",
    "        find_d = {'code': {'$in': code_list},\n",
    "            'datetime': {\n",
    "                '$gte': start_date,\n",
    "                '$lte': end_date},\n",
    "            }\n",
    "        to_show_d = {'_id': 1, 'datetime': 1, 'code':1}\n",
    "        for factor in factor_list:\n",
    "            to_show_d[factor] = 1\n",
    "            \n",
    "        cursor = collection.find(find_d, to_show_d)\n",
    "        l = list(cursor)\n",
    "        if len(l) > 0:\n",
    "            return pd.DataFrame(l)\n",
    "        else:\n",
    "            return None\n",
    "        \n",
    "    def get_daily_quote(self, code_list, start_date, end_date):\n",
    "        pass\n",
    "    \n",
    "    def write_daily_factor(self, df):\n",
    "        pass\n",
    "    \n",
    "    # ......"
   ]
  },
  {
   "cell_type": "code",
   "execution_count": 14,
   "metadata": {},
   "outputs": [
    {
     "data": {
      "text/html": [
       "<div>\n",
       "<style scoped>\n",
       "    .dataframe tbody tr th:only-of-type {\n",
       "        vertical-align: middle;\n",
       "    }\n",
       "\n",
       "    .dataframe tbody tr th {\n",
       "        vertical-align: top;\n",
       "    }\n",
       "\n",
       "    .dataframe thead th {\n",
       "        text-align: right;\n",
       "    }\n",
       "</style>\n",
       "<table border=\"1\" class=\"dataframe\">\n",
       "  <thead>\n",
       "    <tr style=\"text-align: right;\">\n",
       "      <th></th>\n",
       "      <th>_id</th>\n",
       "      <th>datetime</th>\n",
       "      <th>code</th>\n",
       "      <th>factor1</th>\n",
       "    </tr>\n",
       "  </thead>\n",
       "  <tbody>\n",
       "    <tr>\n",
       "      <td>0</td>\n",
       "      <td>5f8d5c2ba253674a09707869</td>\n",
       "      <td>2020-10-11</td>\n",
       "      <td>000002.sz</td>\n",
       "      <td>0.537638</td>\n",
       "    </tr>\n",
       "    <tr>\n",
       "      <td>1</td>\n",
       "      <td>5f8d5c2ba253674a0970786a</td>\n",
       "      <td>2020-10-12</td>\n",
       "      <td>000003.sz</td>\n",
       "      <td>0.059053</td>\n",
       "    </tr>\n",
       "  </tbody>\n",
       "</table>\n",
       "</div>"
      ],
      "text/plain": [
       "                        _id   datetime       code   factor1\n",
       "0  5f8d5c2ba253674a09707869 2020-10-11  000002.sz  0.537638\n",
       "1  5f8d5c2ba253674a0970786a 2020-10-12  000003.sz  0.059053"
      ]
     },
     "execution_count": 14,
     "metadata": {},
     "output_type": "execute_result"
    }
   ],
   "source": [
    "db = DataBase(DBConfig)\n",
    "df = db.get_daily_factor(code_list=['000001.sz', '000002.sz', '000003.sz'],\n",
    "                   factor_list=['factor1',],\n",
    "                   start_date='2020-10-11',\n",
    "                   end_date=pd.to_datetime('2020-10-14'))\n",
    "df"
   ]
  },
  {
   "cell_type": "markdown",
   "metadata": {},
   "source": [
    "## 改"
   ]
  },
  {
   "cell_type": "code",
   "execution_count": 15,
   "metadata": {},
   "outputs": [
    {
     "data": {
      "text/html": [
       "<div>\n",
       "<style scoped>\n",
       "    .dataframe tbody tr th:only-of-type {\n",
       "        vertical-align: middle;\n",
       "    }\n",
       "\n",
       "    .dataframe tbody tr th {\n",
       "        vertical-align: top;\n",
       "    }\n",
       "\n",
       "    .dataframe thead th {\n",
       "        text-align: right;\n",
       "    }\n",
       "</style>\n",
       "<table border=\"1\" class=\"dataframe\">\n",
       "  <thead>\n",
       "    <tr style=\"text-align: right;\">\n",
       "      <th></th>\n",
       "      <th>_id</th>\n",
       "      <th>datetime</th>\n",
       "      <th>code</th>\n",
       "      <th>factor1</th>\n",
       "      <th>factor2</th>\n",
       "      <th>factor3</th>\n",
       "    </tr>\n",
       "  </thead>\n",
       "  <tbody>\n",
       "    <tr>\n",
       "      <td>0</td>\n",
       "      <td>5f8d5c2ba253674a09707868</td>\n",
       "      <td>2020-10-10</td>\n",
       "      <td>000001.sz</td>\n",
       "      <td>0.082828</td>\n",
       "      <td>0.293359</td>\n",
       "      <td>0.276362</td>\n",
       "    </tr>\n",
       "    <tr>\n",
       "      <td>1</td>\n",
       "      <td>5f8d5c2ba253674a09707869</td>\n",
       "      <td>2020-10-11</td>\n",
       "      <td>000002.sz</td>\n",
       "      <td>0.537638</td>\n",
       "      <td>0.956017</td>\n",
       "      <td>0.301836</td>\n",
       "    </tr>\n",
       "    <tr>\n",
       "      <td>2</td>\n",
       "      <td>5f8d5c2ba253674a0970786a</td>\n",
       "      <td>2020-10-12</td>\n",
       "      <td>000003.sz</td>\n",
       "      <td>0.059053</td>\n",
       "      <td>0.414332</td>\n",
       "      <td>0.936546</td>\n",
       "    </tr>\n",
       "    <tr>\n",
       "      <td>3</td>\n",
       "      <td>5f8d5c2ba253674a0970786b</td>\n",
       "      <td>2020-10-13</td>\n",
       "      <td>000004.sz</td>\n",
       "      <td>0.587633</td>\n",
       "      <td>0.803884</td>\n",
       "      <td>0.402281</td>\n",
       "    </tr>\n",
       "    <tr>\n",
       "      <td>4</td>\n",
       "      <td>5f8d5c2ba253674a0970786c</td>\n",
       "      <td>2020-10-14</td>\n",
       "      <td>000005.sz</td>\n",
       "      <td>0.261762</td>\n",
       "      <td>0.910283</td>\n",
       "      <td>0.149412</td>\n",
       "    </tr>\n",
       "    <tr>\n",
       "      <td>5</td>\n",
       "      <td>5f8d5c2ba253674a0970786d</td>\n",
       "      <td>2020-10-15</td>\n",
       "      <td>000006.sz</td>\n",
       "      <td>0.859574</td>\n",
       "      <td>0.293090</td>\n",
       "      <td>0.087748</td>\n",
       "    </tr>\n",
       "  </tbody>\n",
       "</table>\n",
       "</div>"
      ],
      "text/plain": [
       "                        _id   datetime       code   factor1   factor2  \\\n",
       "0  5f8d5c2ba253674a09707868 2020-10-10  000001.sz  0.082828  0.293359   \n",
       "1  5f8d5c2ba253674a09707869 2020-10-11  000002.sz  0.537638  0.956017   \n",
       "2  5f8d5c2ba253674a0970786a 2020-10-12  000003.sz  0.059053  0.414332   \n",
       "3  5f8d5c2ba253674a0970786b 2020-10-13  000004.sz  0.587633  0.803884   \n",
       "4  5f8d5c2ba253674a0970786c 2020-10-14  000005.sz  0.261762  0.910283   \n",
       "5  5f8d5c2ba253674a0970786d 2020-10-15  000006.sz  0.859574  0.293090   \n",
       "\n",
       "    factor3  \n",
       "0  0.276362  \n",
       "1  0.301836  \n",
       "2  0.936546  \n",
       "3  0.402281  \n",
       "4  0.149412  \n",
       "5  0.087748  "
      ]
     },
     "execution_count": 15,
     "metadata": {},
     "output_type": "execute_result"
    }
   ],
   "source": [
    "# 改之前必须先查出来\n",
    "cursor = daily_factor_collection.find({})  # 不输入查找条件即全查询\n",
    "l = list(cursor)\n",
    "df = pd.DataFrame(l)\n",
    "df"
   ]
  },
  {
   "cell_type": "code",
   "execution_count": 16,
   "metadata": {},
   "outputs": [
    {
     "data": {
      "text/html": [
       "<div>\n",
       "<style scoped>\n",
       "    .dataframe tbody tr th:only-of-type {\n",
       "        vertical-align: middle;\n",
       "    }\n",
       "\n",
       "    .dataframe tbody tr th {\n",
       "        vertical-align: top;\n",
       "    }\n",
       "\n",
       "    .dataframe thead th {\n",
       "        text-align: right;\n",
       "    }\n",
       "</style>\n",
       "<table border=\"1\" class=\"dataframe\">\n",
       "  <thead>\n",
       "    <tr style=\"text-align: right;\">\n",
       "      <th></th>\n",
       "      <th>_id</th>\n",
       "      <th>datetime</th>\n",
       "      <th>code</th>\n",
       "      <th>factor1</th>\n",
       "      <th>factor2</th>\n",
       "      <th>factor3</th>\n",
       "      <th>new_factor</th>\n",
       "    </tr>\n",
       "  </thead>\n",
       "  <tbody>\n",
       "    <tr>\n",
       "      <td>0</td>\n",
       "      <td>5f8d5c2ba253674a09707868</td>\n",
       "      <td>2020-10-10</td>\n",
       "      <td>000001.sz</td>\n",
       "      <td>0.082828</td>\n",
       "      <td>0.293359</td>\n",
       "      <td>0.276362</td>\n",
       "      <td>0.903263</td>\n",
       "    </tr>\n",
       "    <tr>\n",
       "      <td>1</td>\n",
       "      <td>5f8d5c2ba253674a09707869</td>\n",
       "      <td>2020-10-11</td>\n",
       "      <td>000002.sz</td>\n",
       "      <td>0.537638</td>\n",
       "      <td>0.956017</td>\n",
       "      <td>0.301836</td>\n",
       "      <td>0.964592</td>\n",
       "    </tr>\n",
       "    <tr>\n",
       "      <td>2</td>\n",
       "      <td>5f8d5c2ba253674a0970786a</td>\n",
       "      <td>2020-10-12</td>\n",
       "      <td>000003.sz</td>\n",
       "      <td>0.059053</td>\n",
       "      <td>0.414332</td>\n",
       "      <td>0.936546</td>\n",
       "      <td>0.235137</td>\n",
       "    </tr>\n",
       "    <tr>\n",
       "      <td>3</td>\n",
       "      <td>5f8d5c2ba253674a0970786b</td>\n",
       "      <td>2020-10-13</td>\n",
       "      <td>000004.sz</td>\n",
       "      <td>0.587633</td>\n",
       "      <td>0.803884</td>\n",
       "      <td>0.402281</td>\n",
       "      <td>0.138379</td>\n",
       "    </tr>\n",
       "    <tr>\n",
       "      <td>4</td>\n",
       "      <td>5f8d5c2ba253674a0970786c</td>\n",
       "      <td>2020-10-14</td>\n",
       "      <td>000005.sz</td>\n",
       "      <td>0.261762</td>\n",
       "      <td>0.910283</td>\n",
       "      <td>0.149412</td>\n",
       "      <td>0.588856</td>\n",
       "    </tr>\n",
       "    <tr>\n",
       "      <td>5</td>\n",
       "      <td>5f8d5c2ba253674a0970786d</td>\n",
       "      <td>2020-10-15</td>\n",
       "      <td>000006.sz</td>\n",
       "      <td>0.859574</td>\n",
       "      <td>0.293090</td>\n",
       "      <td>0.087748</td>\n",
       "      <td>0.765552</td>\n",
       "    </tr>\n",
       "  </tbody>\n",
       "</table>\n",
       "</div>"
      ],
      "text/plain": [
       "                        _id   datetime       code   factor1   factor2  \\\n",
       "0  5f8d5c2ba253674a09707868 2020-10-10  000001.sz  0.082828  0.293359   \n",
       "1  5f8d5c2ba253674a09707869 2020-10-11  000002.sz  0.537638  0.956017   \n",
       "2  5f8d5c2ba253674a0970786a 2020-10-12  000003.sz  0.059053  0.414332   \n",
       "3  5f8d5c2ba253674a0970786b 2020-10-13  000004.sz  0.587633  0.803884   \n",
       "4  5f8d5c2ba253674a0970786c 2020-10-14  000005.sz  0.261762  0.910283   \n",
       "5  5f8d5c2ba253674a0970786d 2020-10-15  000006.sz  0.859574  0.293090   \n",
       "\n",
       "    factor3  new_factor  \n",
       "0  0.276362    0.903263  \n",
       "1  0.301836    0.964592  \n",
       "2  0.936546    0.235137  \n",
       "3  0.402281    0.138379  \n",
       "4  0.149412    0.588856  \n",
       "5  0.087748    0.765552  "
      ]
     },
     "execution_count": 16,
     "metadata": {},
     "output_type": "execute_result"
    }
   ],
   "source": [
    "# 想象这样一个场景，我们给每个股票每天的数据算好了新的因子值\n",
    "df = pd.DataFrame(l)\n",
    "df['new_factor'] = np.random.rand(len(df))\n",
    "df"
   ]
  },
  {
   "cell_type": "code",
   "execution_count": 17,
   "metadata": {},
   "outputs": [
    {
     "data": {
      "text/plain": [
       "[{'_id': ObjectId('5f8d5c2ba253674a09707868'),\n",
       "  'new_factor': 0.9032629202306431},\n",
       " {'_id': ObjectId('5f8d5c2ba253674a09707869'),\n",
       "  'new_factor': 0.9645917330910613},\n",
       " {'_id': ObjectId('5f8d5c2ba253674a0970786a'),\n",
       "  'new_factor': 0.23513656581282139},\n",
       " {'_id': ObjectId('5f8d5c2ba253674a0970786b'),\n",
       "  'new_factor': 0.13837865548971018},\n",
       " {'_id': ObjectId('5f8d5c2ba253674a0970786c'),\n",
       "  'new_factor': 0.588855811958797},\n",
       " {'_id': ObjectId('5f8d5c2ba253674a0970786d'),\n",
       "  'new_factor': 0.7655523639089253}]"
      ]
     },
     "execution_count": 17,
     "metadata": {},
     "output_type": "execute_result"
    }
   ],
   "source": [
    "# 根据 _id 来update数据库\n",
    "record_list = df[['_id', 'new_factor']].to_dict('record')\n",
    "record_list"
   ]
  },
  {
   "cell_type": "code",
   "execution_count": 18,
   "metadata": {},
   "outputs": [],
   "source": [
    "# 逐条更新\n",
    "for record in record_list:\n",
    "    daily_factor_collection.update_one({'_id': record['_id']},\n",
    "                                       {'$set': {\n",
    "                                           'new_factor': record['new_factor']\n",
    "                                       }\n",
    "                                       })"
   ]
  },
  {
   "cell_type": "markdown",
   "metadata": {},
   "source": [
    "## 删"
   ]
  },
  {
   "cell_type": "markdown",
   "metadata": {},
   "source": [
    "### 删一个因子"
   ]
  },
  {
   "cell_type": "code",
   "execution_count": 19,
   "metadata": {},
   "outputs": [],
   "source": [
    "# 逐条更新\n",
    "for record in record_list:\n",
    "    daily_factor_collection.update_one({'_id': record['_id']},\n",
    "                                       {'$unset': {\n",
    "                                           'new_factor': \"\"\n",
    "                                       }\n",
    "                                       })"
   ]
  },
  {
   "cell_type": "markdown",
   "metadata": {},
   "source": [
    "### 删除特定条件的数据"
   ]
  },
  {
   "cell_type": "code",
   "execution_count": 20,
   "metadata": {},
   "outputs": [
    {
     "data": {
      "text/plain": [
       "<pymongo.results.DeleteResult at 0x2289db3ae88>"
      ]
     },
     "execution_count": 20,
     "metadata": {},
     "output_type": "execute_result"
    }
   ],
   "source": [
    "daily_factor_collection.delete_many({'code': '000002.sz'})"
   ]
  },
  {
   "cell_type": "markdown",
   "metadata": {},
   "source": [
    "### 删除整个表（慎用！！！！！）"
   ]
  },
  {
   "cell_type": "code",
   "execution_count": 21,
   "metadata": {},
   "outputs": [
    {
     "data": {
      "text/plain": [
       "<pymongo.results.DeleteResult at 0x2289db45fc8>"
      ]
     },
     "execution_count": 21,
     "metadata": {},
     "output_type": "execute_result"
    }
   ],
   "source": [
    "daily_factor_collection.delete_many({})"
   ]
  }
 ],
 "metadata": {
  "kernelspec": {
   "display_name": "Python 3",
   "language": "python",
   "name": "python3"
  },
  "language_info": {
   "codemirror_mode": {
    "name": "ipython",
    "version": 3
   },
   "file_extension": ".py",
   "mimetype": "text/x-python",
   "name": "python",
   "nbconvert_exporter": "python",
   "pygments_lexer": "ipython3",
   "version": "3.7.4"
  }
 },
 "nbformat": 4,
 "nbformat_minor": 4
}
